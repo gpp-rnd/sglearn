{
 "cells": [
  {
   "cell_type": "markdown",
   "metadata": {},
   "source": [
    "## Basic Usage"
   ]
  },
  {
   "cell_type": "code",
   "execution_count": 1,
   "metadata": {},
   "outputs": [],
   "source": [
    "import sglearn"
   ]
  },
  {
   "cell_type": "code",
   "execution_count": 2,
   "metadata": {},
   "outputs": [
    {
     "data": {
      "text/plain": "                                GC content     A     C    T     G   AA  \\\nGGGCGATAGCGTTGCAGTAGACGGTGGACC        0.55  0.25  0.15  0.2  0.40  0.0   \nATGATCTGTGCCCGATTGATGACAGGGATG        0.50  0.20  0.25  0.3  0.25  0.0   \n\n                                      AC        AT        AG        CA  ...  \\\nGGGCGATAGCGTTGCAGTAGACGGTGGACC  0.052632  0.052632  0.157895  0.052632  ...   \nATGATCTGTGCCCGATTGATGACAGGGATG  0.052632  0.105263  0.000000  0.052632  ...   \n\n                                P1G_+1G  Tm DD guide  Tm RD guide  \\\nGGGCGATAGCGTTGCAGTAGACGGTGGACC        0    52.916148    49.926983   \nATGATCTGTGCCCGATTGATGACAGGGATG        0    53.533232    52.397883   \n\n                                Tm RR guide  Tm RD 1 to 10  Tm RD 11 to 20  \\\nGGGCGATAGCGTTGCAGTAGACGGTGGACC          0.2      17.560470       18.553565   \nATGATCTGTGCCCGATTGATGACAGGGATG          1.1      36.352952       10.397126   \n\n                                PolyA  PolyC  PolyT  PolyG  \nGGGCGATAGCGTTGCAGTAGACGGTGGACC      1      1      2      2  \nATGATCTGTGCCCGATTGATGACAGGGATG      1      3      2      1  \n\n[2 rows x 630 columns]",
      "text/html": "<div>\n<style scoped>\n    .dataframe tbody tr th:only-of-type {\n        vertical-align: middle;\n    }\n\n    .dataframe tbody tr th {\n        vertical-align: top;\n    }\n\n    .dataframe thead th {\n        text-align: right;\n    }\n</style>\n<table border=\"1\" class=\"dataframe\">\n  <thead>\n    <tr style=\"text-align: right;\">\n      <th></th>\n      <th>GC content</th>\n      <th>A</th>\n      <th>C</th>\n      <th>T</th>\n      <th>G</th>\n      <th>AA</th>\n      <th>AC</th>\n      <th>AT</th>\n      <th>AG</th>\n      <th>CA</th>\n      <th>...</th>\n      <th>P1G_+1G</th>\n      <th>Tm DD guide</th>\n      <th>Tm RD guide</th>\n      <th>Tm RR guide</th>\n      <th>Tm RD 1 to 10</th>\n      <th>Tm RD 11 to 20</th>\n      <th>PolyA</th>\n      <th>PolyC</th>\n      <th>PolyT</th>\n      <th>PolyG</th>\n    </tr>\n  </thead>\n  <tbody>\n    <tr>\n      <th>GGGCGATAGCGTTGCAGTAGACGGTGGACC</th>\n      <td>0.55</td>\n      <td>0.25</td>\n      <td>0.15</td>\n      <td>0.2</td>\n      <td>0.40</td>\n      <td>0.0</td>\n      <td>0.052632</td>\n      <td>0.052632</td>\n      <td>0.157895</td>\n      <td>0.052632</td>\n      <td>...</td>\n      <td>0</td>\n      <td>52.916148</td>\n      <td>49.926983</td>\n      <td>0.2</td>\n      <td>17.560470</td>\n      <td>18.553565</td>\n      <td>1</td>\n      <td>1</td>\n      <td>2</td>\n      <td>2</td>\n    </tr>\n    <tr>\n      <th>ATGATCTGTGCCCGATTGATGACAGGGATG</th>\n      <td>0.50</td>\n      <td>0.20</td>\n      <td>0.25</td>\n      <td>0.3</td>\n      <td>0.25</td>\n      <td>0.0</td>\n      <td>0.052632</td>\n      <td>0.105263</td>\n      <td>0.000000</td>\n      <td>0.052632</td>\n      <td>...</td>\n      <td>0</td>\n      <td>53.533232</td>\n      <td>52.397883</td>\n      <td>1.1</td>\n      <td>36.352952</td>\n      <td>10.397126</td>\n      <td>1</td>\n      <td>3</td>\n      <td>2</td>\n      <td>1</td>\n    </tr>\n  </tbody>\n</table>\n<p>2 rows × 630 columns</p>\n</div>"
     },
     "execution_count": 2,
     "metadata": {},
     "output_type": "execute_result"
    }
   ],
   "source": [
    "features = sglearn.featurize_guides(['GGGCGATAGCGTTGCAGTAGACGGTGGACC', 'ATGATCTGTGCCCGATTGATGACAGGGATG'])\n",
    "features"
   ]
  },
  {
   "cell_type": "code",
   "execution_count": 3,
   "metadata": {},
   "outputs": [
    {
     "data": {
      "text/plain": "array(['GC content', 'A', 'C', 'T', 'G', 'AA', 'AC', 'AT', 'AG', 'CA',\n       'CC', 'CT', 'CG', 'TA', 'TC', 'TT', 'TG', 'GA', 'GC', 'GT', 'GG',\n       '-4A', '-4C', '-4T', '-4G', '-3A', '-3C', '-3T', '-3G', '-2A',\n       '-2C', '-2T', '-2G', '-1A', '-1C', '-1T', '-1G', '1A', '1C', '1T',\n       '1G', '2A', '2C', '2T', '2G', '3A', '3C', '3T', '3G', '4A', '4C',\n       '4T', '4G', '5A', '5C', '5T', '5G', '6A', '6C', '6T', '6G', '7A',\n       '7C', '7T', '7G', '8A', '8C', '8T', '8G', '9A', '9C', '9T', '9G',\n       '10A', '10C', '10T', '10G', '11A', '11C', '11T', '11G', '12A',\n       '12C', '12T', '12G', '13A', '13C', '13T', '13G', '14A', '14C',\n       '14T', '14G', '15A', '15C', '15T', '15G', '16A', '16C', '16T',\n       '16G', '17A', '17C', '17T', '17G', '18A', '18C', '18T', '18G',\n       '19A', '19C', '19T', '19G', '20A', '20C', '20T', '20G', 'P1A',\n       'P1C', 'P1T', 'P1G', 'P2A', 'P2C', 'P2T', 'P2G', 'P3A', 'P3C',\n       'P3T', 'P3G', '+1A', '+1C', '+1T', '+1G', '+2A', '+2C', '+2T',\n       '+2G', '+3A', '+3C', '+3T', '+3G', '-4AA', '-4AC', '-4AT', '-4AG',\n       '-4CA', '-4CC', '-4CT', '-4CG', '-4TA', '-4TC', '-4TT', '-4TG',\n       '-4GA', '-4GC', '-4GT', '-4GG', '-3AA', '-3AC', '-3AT', '-3AG',\n       '-3CA', '-3CC', '-3CT', '-3CG', '-3TA', '-3TC', '-3TT', '-3TG',\n       '-3GA', '-3GC', '-3GT', '-3GG', '-2AA', '-2AC', '-2AT', '-2AG',\n       '-2CA', '-2CC', '-2CT', '-2CG', '-2TA', '-2TC', '-2TT', '-2TG',\n       '-2GA', '-2GC', '-2GT', '-2GG', '-1AA', '-1AC', '-1AT', '-1AG',\n       '-1CA', '-1CC', '-1CT', '-1CG', '-1TA', '-1TC', '-1TT', '-1TG',\n       '-1GA', '-1GC', '-1GT', '-1GG', '1AA', '1AC', '1AT', '1AG', '1CA',\n       '1CC', '1CT', '1CG', '1TA', '1TC', '1TT', '1TG', '1GA', '1GC',\n       '1GT', '1GG', '2AA', '2AC', '2AT', '2AG', '2CA', '2CC', '2CT',\n       '2CG', '2TA', '2TC', '2TT', '2TG', '2GA', '2GC', '2GT', '2GG',\n       '3AA', '3AC', '3AT', '3AG', '3CA', '3CC', '3CT', '3CG', '3TA',\n       '3TC', '3TT', '3TG', '3GA', '3GC', '3GT', '3GG', '4AA', '4AC',\n       '4AT', '4AG', '4CA', '4CC', '4CT', '4CG', '4TA', '4TC', '4TT',\n       '4TG', '4GA', '4GC', '4GT', '4GG', '5AA', '5AC', '5AT', '5AG',\n       '5CA', '5CC', '5CT', '5CG', '5TA', '5TC', '5TT', '5TG', '5GA',\n       '5GC', '5GT', '5GG', '6AA', '6AC', '6AT', '6AG', '6CA', '6CC',\n       '6CT', '6CG', '6TA', '6TC', '6TT', '6TG', '6GA', '6GC', '6GT',\n       '6GG', '7AA', '7AC', '7AT', '7AG', '7CA', '7CC', '7CT', '7CG',\n       '7TA', '7TC', '7TT', '7TG', '7GA', '7GC', '7GT', '7GG', '8AA',\n       '8AC', '8AT', '8AG', '8CA', '8CC', '8CT', '8CG', '8TA', '8TC',\n       '8TT', '8TG', '8GA', '8GC', '8GT', '8GG', '9AA', '9AC', '9AT',\n       '9AG', '9CA', '9CC', '9CT', '9CG', '9TA', '9TC', '9TT', '9TG',\n       '9GA', '9GC', '9GT', '9GG', '10AA', '10AC', '10AT', '10AG', '10CA',\n       '10CC', '10CT', '10CG', '10TA', '10TC', '10TT', '10TG', '10GA',\n       '10GC', '10GT', '10GG', '11AA', '11AC', '11AT', '11AG', '11CA',\n       '11CC', '11CT', '11CG', '11TA', '11TC', '11TT', '11TG', '11GA',\n       '11GC', '11GT', '11GG', '12AA', '12AC', '12AT', '12AG', '12CA',\n       '12CC', '12CT', '12CG', '12TA', '12TC', '12TT', '12TG', '12GA',\n       '12GC', '12GT', '12GG', '13AA', '13AC', '13AT', '13AG', '13CA',\n       '13CC', '13CT', '13CG', '13TA', '13TC', '13TT', '13TG', '13GA',\n       '13GC', '13GT', '13GG', '14AA', '14AC', '14AT', '14AG', '14CA',\n       '14CC', '14CT', '14CG', '14TA', '14TC', '14TT', '14TG', '14GA',\n       '14GC', '14GT', '14GG', '15AA', '15AC', '15AT', '15AG', '15CA',\n       '15CC', '15CT', '15CG', '15TA', '15TC', '15TT', '15TG', '15GA',\n       '15GC', '15GT', '15GG', '16AA', '16AC', '16AT', '16AG', '16CA',\n       '16CC', '16CT', '16CG', '16TA', '16TC', '16TT', '16TG', '16GA',\n       '16GC', '16GT', '16GG', '17AA', '17AC', '17AT', '17AG', '17CA',\n       '17CC', '17CT', '17CG', '17TA', '17TC', '17TT', '17TG', '17GA',\n       '17GC', '17GT', '17GG', '18AA', '18AC', '18AT', '18AG', '18CA',\n       '18CC', '18CT', '18CG', '18TA', '18TC', '18TT', '18TG', '18GA',\n       '18GC', '18GT', '18GG', '19AA', '19AC', '19AT', '19AG', '19CA',\n       '19CC', '19CT', '19CG', '19TA', '19TC', '19TT', '19TG', '19GA',\n       '19GC', '19GT', '19GG', '20AA', '20AC', '20AT', '20AG', '20CA',\n       '20CC', '20CT', '20CG', '20TA', '20TC', '20TT', '20TG', '20GA',\n       '20GC', '20GT', '20GG', 'P1AA', 'P1AC', 'P1AT', 'P1AG', 'P1CA',\n       'P1CC', 'P1CT', 'P1CG', 'P1TA', 'P1TC', 'P1TT', 'P1TG', 'P1GA',\n       'P1GC', 'P1GT', 'P1GG', 'P2AA', 'P2AC', 'P2AT', 'P2AG', 'P2CA',\n       'P2CC', 'P2CT', 'P2CG', 'P2TA', 'P2TC', 'P2TT', 'P2TG', 'P2GA',\n       'P2GC', 'P2GT', 'P2GG', 'P3AA', 'P3AC', 'P3AT', 'P3AG', 'P3CA',\n       'P3CC', 'P3CT', 'P3CG', 'P3TA', 'P3TC', 'P3TT', 'P3TG', 'P3GA',\n       'P3GC', 'P3GT', 'P3GG', '+1AA', '+1AC', '+1AT', '+1AG', '+1CA',\n       '+1CC', '+1CT', '+1CG', '+1TA', '+1TC', '+1TT', '+1TG', '+1GA',\n       '+1GC', '+1GT', '+1GG', '+2AA', '+2AC', '+2AT', '+2AG', '+2CA',\n       '+2CC', '+2CT', '+2CG', '+2TA', '+2TC', '+2TT', '+2TG', '+2GA',\n       '+2GC', '+2GT', '+2GG', 'P1A_+1A', 'P1A_+1C', 'P1A_+1T', 'P1A_+1G',\n       'P1C_+1A', 'P1C_+1C', 'P1C_+1T', 'P1C_+1G', 'P1T_+1A', 'P1T_+1C',\n       'P1T_+1T', 'P1T_+1G', 'P1G_+1A', 'P1G_+1C', 'P1G_+1T', 'P1G_+1G',\n       'Tm DD guide', 'Tm RD guide', 'Tm RR guide', 'Tm RD 1 to 10',\n       'Tm RD 11 to 20', 'PolyA', 'PolyC', 'PolyT', 'PolyG'], dtype=object)"
     },
     "execution_count": 3,
     "metadata": {},
     "output_type": "execute_result"
    }
   ],
   "source": [
    "features.columns.values"
   ]
  },
  {
   "cell_type": "code",
   "execution_count": 3,
   "metadata": {},
   "outputs": [],
   "source": []
  }
 ],
 "metadata": {
  "kernelspec": {
   "name": "python3",
   "language": "python",
   "display_name": "Python 3"
  },
  "language_info": {
   "codemirror_mode": {
    "name": "ipython",
    "version": 3
   },
   "file_extension": ".py",
   "mimetype": "text/x-python",
   "name": "python",
   "nbconvert_exporter": "python",
   "pygments_lexer": "ipython3",
   "version": "3.8.3"
  }
 },
 "nbformat": 4,
 "nbformat_minor": 4
}